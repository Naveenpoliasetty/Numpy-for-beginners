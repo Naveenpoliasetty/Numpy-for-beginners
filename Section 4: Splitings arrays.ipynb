{
 "cells": [
  {
   "cell_type": "markdown",
   "id": "91acc1b4",
   "metadata": {},
   "source": [
    "# Splitings in n-d array"
   ]
  },
  {
   "cell_type": "code",
   "execution_count": 9,
   "id": "c841a264",
   "metadata": {},
   "outputs": [],
   "source": [
    "import numpy as np\n",
    "import pandas as pd"
   ]
  },
  {
   "cell_type": "code",
   "execution_count": 29,
   "id": "bf087959",
   "metadata": {},
   "outputs": [
    {
     "name": "stdout",
     "output_type": "stream",
     "text": [
      "[[43 22 94 85]\n",
      " [18 17 67 94]\n",
      " [95 43 86 21]]\n"
     ]
    },
    {
     "data": {
      "text/plain": [
       "[array([[43],\n",
       "        [18],\n",
       "        [95]]),\n",
       " array([[22],\n",
       "        [17],\n",
       "        [43]]),\n",
       " array([[94],\n",
       "        [67],\n",
       "        [86]]),\n",
       " array([[85],\n",
       "        [94],\n",
       "        [21]])]"
      ]
     },
     "execution_count": 29,
     "metadata": {},
     "output_type": "execute_result"
    }
   ],
   "source": [
    "a=np.random.randint(0,99,12).reshape(3,4)\n",
    "print(a)\n",
    "np.split(a,4,axis=1)"
   ]
  },
  {
   "cell_type": "code",
   "execution_count": 30,
   "id": "b852a55d",
   "metadata": {},
   "outputs": [
    {
     "name": "stdout",
     "output_type": "stream",
     "text": [
      "[[88 48 65 31]\n",
      " [43 84 28 75]\n",
      " [33 84  0 67]]\n"
     ]
    },
    {
     "data": {
      "text/plain": [
       "[array([[88, 48, 65, 31]]),\n",
       " array([[43, 84, 28, 75]]),\n",
       " array([[33, 84,  0, 67]])]"
      ]
     },
     "execution_count": 30,
     "metadata": {},
     "output_type": "execute_result"
    }
   ],
   "source": [
    "a=np.random.randint(0,99,12).reshape(3,4)\n",
    "print(a)\n",
    "np.split(a,3,axis=0)"
   ]
  },
  {
   "cell_type": "markdown",
   "id": "87b42945",
   "metadata": {},
   "source": [
    "# Horizontal split"
   ]
  },
  {
   "cell_type": "markdown",
   "id": "774a108e",
   "metadata": {},
   "source": [
    "Using this method There is no need of mentioning about axis"
   ]
  },
  {
   "cell_type": "code",
   "execution_count": 38,
   "id": "55023347",
   "metadata": {},
   "outputs": [
    {
     "name": "stdout",
     "output_type": "stream",
     "text": [
      "[[57 54  0 74]\n",
      " [92  3 59 65]\n",
      " [15 79 34 26]]\n"
     ]
    },
    {
     "data": {
      "text/plain": [
       "[array([[57],\n",
       "        [92],\n",
       "        [15]]),\n",
       " array([[54],\n",
       "        [ 3],\n",
       "        [79]]),\n",
       " array([[ 0],\n",
       "        [59],\n",
       "        [34]]),\n",
       " array([[74],\n",
       "        [65],\n",
       "        [26]])]"
      ]
     },
     "execution_count": 38,
     "metadata": {},
     "output_type": "execute_result"
    }
   ],
   "source": [
    "a=np.random.randint(0,99,12).reshape(3,4)\n",
    "print(a)\n",
    "np.hsplit(a,4)"
   ]
  },
  {
   "cell_type": "markdown",
   "id": "5d5f1ee0",
   "metadata": {},
   "source": [
    "# Vertical Split"
   ]
  },
  {
   "cell_type": "code",
   "execution_count": 37,
   "id": "ed0a6e36",
   "metadata": {},
   "outputs": [
    {
     "name": "stdout",
     "output_type": "stream",
     "text": [
      "[[95 14 93 96]\n",
      " [25 69 85 72]\n",
      " [42 85 68 41]]\n"
     ]
    },
    {
     "data": {
      "text/plain": [
       "[array([[95, 14, 93, 96]]),\n",
       " array([[25, 69, 85, 72]]),\n",
       " array([[42, 85, 68, 41]])]"
      ]
     },
     "execution_count": 37,
     "metadata": {},
     "output_type": "execute_result"
    }
   ],
   "source": [
    "a=np.random.randint(0,99,12).reshape(3,4)\n",
    "print(a)\n",
    "np.vsplit(a,3)"
   ]
  }
 ],
 "metadata": {
  "kernelspec": {
   "display_name": "Python 3 (ipykernel)",
   "language": "python",
   "name": "python3"
  },
  "language_info": {
   "codemirror_mode": {
    "name": "ipython",
    "version": 3
   },
   "file_extension": ".py",
   "mimetype": "text/x-python",
   "name": "python",
   "nbconvert_exporter": "python",
   "pygments_lexer": "ipython3",
   "version": "3.9.13"
  }
 },
 "nbformat": 4,
 "nbformat_minor": 5
}
