{
 "cells": [
  {
   "cell_type": "markdown",
   "id": "45fb2fcf",
   "metadata": {},
   "source": [
    "# Creating an nd array "
   ]
  },
  {
   "cell_type": "code",
   "execution_count": 2,
   "id": "075233cf",
   "metadata": {},
   "outputs": [
    {
     "name": "stdout",
     "output_type": "stream",
     "text": [
      "[1 2 3 4 5 6]\n"
     ]
    }
   ],
   "source": [
    "import numpy as np \n",
    "a=np.array([1,2,3,4,5,6])\n",
    "print(a)"
   ]
  },
  {
   "cell_type": "markdown",
   "id": "926e190d",
   "metadata": {},
   "source": [
    "# Multi-Dimensional Array"
   ]
  },
  {
   "cell_type": "code",
   "execution_count": 17,
   "id": "7d2dbcfc",
   "metadata": {},
   "outputs": [
    {
     "name": "stdout",
     "output_type": "stream",
     "text": [
      "[[1 2 3 4 5 6]\n",
      " [7 8 9 4 5 6]]\n"
     ]
    }
   ],
   "source": [
    "ab=np.array([[1,2,3,4,5,6],[7,8,9,4,5,6]])\n",
    "print(ab)"
   ]
  },
  {
   "cell_type": "markdown",
   "id": "0bbd2665",
   "metadata": {},
   "source": [
    "# Choice array in NumPy"
   ]
  },
  {
   "cell_type": "code",
   "execution_count": 2,
   "id": "4e69d987",
   "metadata": {},
   "outputs": [
    {
     "name": "stdout",
     "output_type": "stream",
     "text": [
      "[[5 5 5]\n",
      " [5 5 5]\n",
      " [5 5 5]]\n"
     ]
    }
   ],
   "source": [
    "b=np.full((3,3),5)\n",
    "print(b)"
   ]
  },
  {
   "cell_type": "markdown",
   "id": "1cf48e11",
   "metadata": {},
   "source": [
    "# Random array"
   ]
  },
  {
   "cell_type": "code",
   "execution_count": 5,
   "id": "7fc03d8b",
   "metadata": {},
   "outputs": [
    {
     "name": "stdout",
     "output_type": "stream",
     "text": [
      "[[0.46185398 0.41067398]\n",
      " [0.03863765 0.39578355]\n",
      " [0.19680597 0.77695624]\n",
      " [0.57069562 0.30567407]\n",
      " [0.21976809 0.54216369]]\n"
     ]
    }
   ],
   "source": [
    "c=np.random.rand(5,2)\n",
    "print(c)"
   ]
  },
  {
   "cell_type": "markdown",
   "id": "d49b45c8",
   "metadata": {},
   "source": [
    "# Array of Zeros"
   ]
  },
  {
   "cell_type": "code",
   "execution_count": 12,
   "id": "cdb19a89",
   "metadata": {},
   "outputs": [
    {
     "name": "stdout",
     "output_type": "stream",
     "text": [
      "[[0 0 0 0 0]\n",
      " [0 0 0 0 0]\n",
      " [0 0 0 0 0]\n",
      " [0 0 0 0 0]\n",
      " [0 0 0 0 0]]\n"
     ]
    }
   ],
   "source": [
    "d=np.zeros((5,5),dtype=np.int32)\n",
    "print(d)"
   ]
  },
  {
   "cell_type": "markdown",
   "id": "c4740d78",
   "metadata": {},
   "source": [
    "# Array of Ones"
   ]
  },
  {
   "cell_type": "code",
   "execution_count": 11,
   "id": "25616874",
   "metadata": {},
   "outputs": [
    {
     "name": "stdout",
     "output_type": "stream",
     "text": [
      "[[1 1 1 1 1 1 1 1]\n",
      " [1 1 1 1 1 1 1 1]\n",
      " [1 1 1 1 1 1 1 1]\n",
      " [1 1 1 1 1 1 1 1]\n",
      " [1 1 1 1 1 1 1 1]\n",
      " [1 1 1 1 1 1 1 1]\n",
      " [1 1 1 1 1 1 1 1]\n",
      " [1 1 1 1 1 1 1 1]]\n"
     ]
    }
   ],
   "source": [
    "e=np.ones((8,8),dtype=np.int32)\n",
    "print(e)"
   ]
  },
  {
   "cell_type": "markdown",
   "id": "ed91b5bf",
   "metadata": {},
   "source": [
    "# Imatrix array "
   ]
  },
  {
   "cell_type": "code",
   "execution_count": 7,
   "id": "8d81ddfe",
   "metadata": {},
   "outputs": [
    {
     "name": "stdout",
     "output_type": "stream",
     "text": [
      "[[0. 0. 0. 0. 0.]\n",
      " [0. 0. 0. 0. 0.]\n",
      " [1. 0. 0. 0. 0.]\n",
      " [0. 1. 0. 0. 0.]\n",
      " [0. 0. 1. 0. 0.]]\n"
     ]
    }
   ],
   "source": [
    "f=np.eye(5,k=-2)\n",
    "print(f)"
   ]
  },
  {
   "cell_type": "markdown",
   "id": "2e80db63",
   "metadata": {},
   "source": [
    "# Evenly Spaced Arrays"
   ]
  },
  {
   "cell_type": "code",
   "execution_count": 3,
   "id": "3b640980",
   "metadata": {},
   "outputs": [
    {
     "name": "stdout",
     "output_type": "stream",
     "text": [
      "[2 6]\n"
     ]
    }
   ],
   "source": [
    "g=np.arange(2,10,4,dtype=np.int32)\n",
    "print(g)"
   ]
  },
  {
   "cell_type": "code",
   "execution_count": 14,
   "id": "f7acf89d",
   "metadata": {},
   "outputs": [
    {
     "data": {
      "text/plain": [
       "array([[[ 0,  1,  2,  3],\n",
       "        [ 4,  5,  6,  7],\n",
       "        [ 8,  9, 10, 11]],\n",
       "\n",
       "       [[12, 13, 14, 15],\n",
       "        [16, 17, 18, 19],\n",
       "        [20, 21, 22, 23]]])"
      ]
     },
     "execution_count": 14,
     "metadata": {},
     "output_type": "execute_result"
    }
   ],
   "source": [
    "x=np.arange(24).reshape(2,3,4)\n",
    "x"
   ]
  },
  {
   "cell_type": "markdown",
   "id": "dfb7dd6f",
   "metadata": {},
   "source": [
    "# Linspace Array"
   ]
  },
  {
   "cell_type": "code",
   "execution_count": 8,
   "id": "8f8ac020",
   "metadata": {},
   "outputs": [
    {
     "name": "stdout",
     "output_type": "stream",
     "text": [
      "[0.   0.25 0.5  0.75 1.  ]\n"
     ]
    }
   ],
   "source": [
    "h=np.linspace(0,1,5)\n",
    "print(h)"
   ]
  }
 ],
 "metadata": {
  "kernelspec": {
   "display_name": "Python 3 (ipykernel)",
   "language": "python",
   "name": "python3"
  },
  "language_info": {
   "codemirror_mode": {
    "name": "ipython",
    "version": 3
   },
   "file_extension": ".py",
   "mimetype": "text/x-python",
   "name": "python",
   "nbconvert_exporter": "python",
   "pygments_lexer": "ipython3",
   "version": "3.9.13"
  }
 },
 "nbformat": 4,
 "nbformat_minor": 5
}
