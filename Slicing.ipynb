{
 "cells": [
  {
   "cell_type": "markdown",
   "id": "92f798a1",
   "metadata": {},
   "source": [
    "# Slicing N-Dimensional Arrays"
   ]
  },
  {
   "cell_type": "markdown",
   "id": "22233e8e",
   "metadata": {},
   "source": [
    "Slicing a Single Dimensional Array"
   ]
  },
  {
   "cell_type": "code",
   "execution_count": 6,
   "id": "58d62e9e",
   "metadata": {},
   "outputs": [
    {
     "data": {
      "text/plain": [
       "array([ 2,  4,  6,  8, 10])"
      ]
     },
     "execution_count": 6,
     "metadata": {},
     "output_type": "execute_result"
    }
   ],
   "source": [
    "import numpy as np\n",
    "a=np.array([1,2,3,4,5,6,7,8,9,10])\n",
    "a[1:10:2]"
   ]
  },
  {
   "cell_type": "markdown",
   "id": "6cb38687",
   "metadata": {},
   "source": [
    "Slicing a 2-Dimensional Array"
   ]
  },
  {
   "cell_type": "code",
   "execution_count": 33,
   "id": "06c28cb9",
   "metadata": {},
   "outputs": [
    {
     "name": "stdout",
     "output_type": "stream",
     "text": [
      "[[10 20 30]\n",
      " [40 50 60]]\n"
     ]
    }
   ],
   "source": [
    "b=np.array([[10,20,30],[40,50,60],[70,80,90]])\n",
    "print(b[:2])"
   ]
  },
  {
   "cell_type": "code",
   "execution_count": 45,
   "id": "be86849a",
   "metadata": {},
   "outputs": [
    {
     "data": {
      "text/plain": [
       "array([[341, 365, 469, 213,  87],\n",
       "       [276, 170, 323, 119, 467],\n",
       "       [297, 456, 442,   8, 269],\n",
       "       [267, 450, 369, 217, 285],\n",
       "       [271, 419,  22,  55, 201],\n",
       "       [ 38, 461, 231, 187, 269]])"
      ]
     },
     "execution_count": 45,
     "metadata": {},
     "output_type": "execute_result"
    }
   ],
   "source": [
    "import numpy as np\n",
    "np.random.seed(111)\n",
    "a=np.random.randint(1,500,30).reshape(6,5)\n",
    "a"
   ]
  },
  {
   "cell_type": "code",
   "execution_count": 42,
   "id": "20d3b525",
   "metadata": {},
   "outputs": [
    {
     "data": {
      "text/plain": [
       "array([[442,   8, 269],\n",
       "       [369, 217, 285],\n",
       "       [ 22,  55, 201],\n",
       "       [231, 187, 269]])"
      ]
     },
     "execution_count": 42,
     "metadata": {},
     "output_type": "execute_result"
    }
   ],
   "source": [
    "a[2:,2:]"
   ]
  },
  {
   "cell_type": "code",
   "execution_count": 35,
   "id": "92eabd38",
   "metadata": {},
   "outputs": [
    {
     "data": {
      "text/plain": [
       "array([[[28, 29],\n",
       "        [30, 31]]])"
      ]
     },
     "execution_count": 35,
     "metadata": {},
     "output_type": "execute_result"
    }
   ],
   "source": [
    "a[3:5,2:]"
   ]
  },
  {
   "cell_type": "code",
   "execution_count": 31,
   "id": "93e53cf8",
   "metadata": {},
   "outputs": [
    {
     "data": {
      "text/plain": [
       "array([[ 0,  1,  2,  3,  4,  5],\n",
       "       [ 6,  7,  8,  9, 10, 11],\n",
       "       [12, 13, 14, 15, 16, 17],\n",
       "       [18, 19, 20, 21, 22, 23]])"
      ]
     },
     "execution_count": 31,
     "metadata": {},
     "output_type": "execute_result"
    }
   ],
   "source": [
    "b=np.arange(24).reshape(4,6)\n",
    "b"
   ]
  },
  {
   "cell_type": "code",
   "execution_count": 33,
   "id": "e02a88b9",
   "metadata": {},
   "outputs": [
    {
     "name": "stdout",
     "output_type": "stream",
     "text": [
      "[[15 16]]\n"
     ]
    }
   ],
   "source": [
    "print(b[2:3,3:5])\n"
   ]
  },
  {
   "cell_type": "markdown",
   "id": "3c2f68c1",
   "metadata": {},
   "source": [
    "Slicing a 3-Dimensional Array"
   ]
  },
  {
   "cell_type": "code",
   "execution_count": 8,
   "id": "619f8695",
   "metadata": {},
   "outputs": [
    {
     "name": "stdout",
     "output_type": "stream",
     "text": [
      "[[[ 0  1]\n",
      "  [ 2  3]\n",
      "  [ 4  5]\n",
      "  [ 6  7]]\n",
      "\n",
      " [[ 8  9]\n",
      "  [10 11]\n",
      "  [12 13]\n",
      "  [14 15]]\n",
      "\n",
      " [[16 17]\n",
      "  [18 19]\n",
      "  [20 21]\n",
      "  [22 23]]\n",
      "\n",
      " [[24 25]\n",
      "  [26 27]\n",
      "  [28 29]\n",
      "  [30 31]]]\n"
     ]
    }
   ],
   "source": [
    "a=np.arange(32).reshape(4,4,2)\n",
    "print(a)"
   ]
  },
  {
   "cell_type": "markdown",
   "id": "6d220ff2",
   "metadata": {},
   "source": [
    "So we have 4 layers, 4 rows and 2 columns"
   ]
  },
  {
   "cell_type": "code",
   "execution_count": 15,
   "id": "a7c6304e",
   "metadata": {},
   "outputs": [
    {
     "name": "stdout",
     "output_type": "stream",
     "text": [
      "[[[18]\n",
      "  [20]]]\n"
     ]
    }
   ],
   "source": [
    "print(a[2:3,1:3,0:1])"
   ]
  },
  {
   "cell_type": "code",
   "execution_count": 37,
   "id": "3127a4b5",
   "metadata": {},
   "outputs": [
    {
     "name": "stdout",
     "output_type": "stream",
     "text": [
      "[[[ 8  9]\n",
      "  [10 11]\n",
      "  [12 13]\n",
      "  [14 15]]]\n"
     ]
    }
   ],
   "source": [
    "print(a[1:2,::,::])"
   ]
  },
  {
   "cell_type": "code",
   "execution_count": 30,
   "id": "607aecd4",
   "metadata": {},
   "outputs": [
    {
     "name": "stdout",
     "output_type": "stream",
     "text": [
      "[[[15]]]\n"
     ]
    }
   ],
   "source": [
    "print(a[1:2,3:4,1:2])"
   ]
  },
  {
   "cell_type": "markdown",
   "id": "b73e5ca1",
   "metadata": {},
   "source": [
    "# Negative Slicing"
   ]
  },
  {
   "cell_type": "markdown",
   "id": "61227606",
   "metadata": {},
   "source": [
    "In order to satisfy Backward approach we use NEgative numbers"
   ]
  },
  {
   "cell_type": "code",
   "execution_count": 38,
   "id": "52f340c9",
   "metadata": {},
   "outputs": [
    {
     "data": {
      "text/plain": [
       "array([17, 21, 22, 20, 20,  4, 10, 11,  8,  5,  9, 17])"
      ]
     },
     "execution_count": 38,
     "metadata": {},
     "output_type": "execute_result"
    }
   ],
   "source": [
    "x=np.random.randint(0,24,12)\n",
    "x"
   ]
  },
  {
   "cell_type": "code",
   "execution_count": 50,
   "id": "f0b314b3",
   "metadata": {},
   "outputs": [
    {
     "name": "stdout",
     "output_type": "stream",
     "text": [
      "10\n"
     ]
    }
   ],
   "source": [
    "print(x[-(2*3)])"
   ]
  },
  {
   "cell_type": "markdown",
   "id": "e913c867",
   "metadata": {},
   "source": [
    "Flipping the array using neagtive slicing"
   ]
  },
  {
   "cell_type": "code",
   "execution_count": 63,
   "id": "5c17bfd7",
   "metadata": {},
   "outputs": [
    {
     "name": "stdout",
     "output_type": "stream",
     "text": [
      "Original array : \n",
      " [[ 1  2  3  4  5]\n",
      " [ 6  7  8  9 10]]\n",
      "Reversed array : \n",
      " [[ 5  4  3  2  1]\n",
      " [10  9  8  7  6]]\n"
     ]
    }
   ],
   "source": [
    "a = np.array([[1,2,3,4,5],\n",
    "[6,7,8,9,10]])\n",
    "print('Original array :','\\n',a[::1,::1])\n",
    "print('Reversed array :','\\n',a[::1,::-1])"
   ]
  },
  {
   "cell_type": "markdown",
   "id": "a52903cd",
   "metadata": {},
   "source": [
    "Flipping the array using flip method"
   ]
  },
  {
   "cell_type": "code",
   "execution_count": 75,
   "id": "d101a31e",
   "metadata": {},
   "outputs": [
    {
     "name": "stdout",
     "output_type": "stream",
     "text": [
      "The Original Array \n",
      "  [[ 1  2  3  4  5]\n",
      " [ 6  7  8  9 10]] \n",
      "\n",
      "Flipping Horizontally \n",
      " [[ 6  7  8  9 10]\n",
      " [ 1  2  3  4  5]]\n",
      "\n",
      " Flipping Vertically\n",
      " [[ 5  4  3  2  1]\n",
      " [10  9  8  7  6]]\n"
     ]
    }
   ],
   "source": [
    "print(\"The Original Array \\n \",a,\"\\n\")\n",
    "print(\"Flipping Horizontally \\n\",np.flip(a,axis=0))\n",
    "print(\"\\n Flipping Vertically\\n\",np.flip(a,axis=1))"
   ]
  },
  {
   "cell_type": "code",
   "execution_count": 76,
   "id": "237eec85",
   "metadata": {},
   "outputs": [
    {
     "data": {
      "text/plain": [
       "array([[2],\n",
       "       [2]])"
      ]
     },
     "execution_count": 76,
     "metadata": {},
     "output_type": "execute_result"
    }
   ],
   "source": [
    "b = np.array([[2],[2]])\n",
    "b"
   ]
  },
  {
   "cell_type": "markdown",
   "id": "91a73fb7",
   "metadata": {},
   "source": [
    "# Stacking and Concatenation of Arrays"
   ]
  },
  {
   "cell_type": "markdown",
   "id": "029520fc",
   "metadata": {},
   "source": [
    "Horizontal Stacking"
   ]
  },
  {
   "cell_type": "code",
   "execution_count": 13,
   "id": "a0a56beb",
   "metadata": {},
   "outputs": [
    {
     "name": "stdout",
     "output_type": "stream",
     "text": [
      "[13 10  4 20 21 17 11 21] \n",
      " [19  4  1  8  1 11 17  2]\n",
      "Horizontal Stacking \n",
      " [13 10  4 20 21 17 11 21 19  4  1  8  1 11 17  2]\n"
     ]
    }
   ],
   "source": [
    "a=np.random.randint(1,30,8)\n",
    "b=np.random.randint(1,30,8)\n",
    "print(a,\"\\n\",b)\n",
    "a=np.hstack((a,b))\n",
    "print(\"Horizontal Stacking \\n\",a)"
   ]
  },
  {
   "cell_type": "markdown",
   "id": "9b7ad2f7",
   "metadata": {},
   "source": [
    "Vertical Stacking"
   ]
  },
  {
   "cell_type": "code",
   "execution_count": 15,
   "id": "26a57a74",
   "metadata": {},
   "outputs": [
    {
     "name": "stdout",
     "output_type": "stream",
     "text": [
      "[20 15 26 15 10 26 27 22] \n",
      " [26  5 16 14 25 12  5 23]\n",
      "Vertical Stacking \n",
      " [[20 15 26 15 10 26 27 22]\n",
      " [26  5 16 14 25 12  5 23]]\n"
     ]
    }
   ],
   "source": [
    "a=np.random.randint(1,30,8)\n",
    "b=np.random.randint(1,30,8)\n",
    "print(a,\"\\n\",b)\n",
    "b=np.vstack((a,b))\n",
    "print(\"Vertical Stacking \\n\",b)"
   ]
  },
  {
   "cell_type": "markdown",
   "id": "4948d182",
   "metadata": {},
   "source": [
    "Depth Stacking"
   ]
  },
  {
   "cell_type": "code",
   "execution_count": null,
   "id": "f87d8e6d",
   "metadata": {},
   "outputs": [],
   "source": []
  },
  {
   "cell_type": "code",
   "execution_count": 32,
   "id": "0de9c370",
   "metadata": {
    "scrolled": true
   },
   "outputs": [
    {
     "name": "stdout",
     "output_type": "stream",
     "text": [
      "[[[16 26]\n",
      "  [21 20]]\n",
      "\n",
      " [[28  3]\n",
      "  [18  4]]\n",
      "\n",
      " [[22 28]\n",
      "  [ 9 18]]] \n",
      " [[[54 37]\n",
      "  [57 37]]\n",
      "\n",
      " [[45 34]\n",
      "  [34 57]]\n",
      "\n",
      " [[35 52]\n",
      "  [54 46]]] \n",
      " [[[58 52]\n",
      "  [37 34]]\n",
      "\n",
      " [[48 50]\n",
      "  [47 31]]\n",
      "\n",
      " [[31 41]\n",
      "  [43 46]]] \n",
      " Depth Stacking\n",
      "\n",
      " [[[16 26 54 37 58 52]\n",
      "  [21 20 57 37 37 34]]\n",
      "\n",
      " [[28  3 45 34 48 50]\n",
      "  [18  4 34 57 47 31]]\n",
      "\n",
      " [[22 28 35 52 31 41]\n",
      "  [ 9 18 54 46 43 46]]]\n"
     ]
    }
   ],
   "source": [
    "a=np.random.randint(1,30,12).reshape(3,2,2)\n",
    "b=np.random.randint(30,60,12).reshape(3,2,2)\n",
    "c=np.random.randint(30,60,12).reshape(3,2,2)\n",
    "print(a,\"\\n\",b,\"\\n\",c,\"\\n\",\"Depth Stacking\")\n",
    "print(\"\\n\",np.dstack((a,b,c)))"
   ]
  },
  {
   "cell_type": "markdown",
   "id": "e1c37ab8",
   "metadata": {},
   "source": [
    "# Contenation of nd-arrays"
   ]
  },
  {
   "cell_type": "code",
   "execution_count": 8,
   "id": "35a8be92",
   "metadata": {},
   "outputs": [
    {
     "name": "stdout",
     "output_type": "stream",
     "text": [
      "Horizontal Concatenation\n",
      "[[0 1 2 3 4]\n",
      " [5 6 7 8 9]]\n"
     ]
    }
   ],
   "source": [
    "a=np.arange(0,5).reshape(1,5)\n",
    "b=np.arange(5,10).reshape(1,5)\n",
    "print(\"Horizontal Concatenation\")\n",
    "print(np.concatenate((a,b),axis=0))"
   ]
  },
  {
   "cell_type": "code",
   "execution_count": 10,
   "id": "6fe0d70c",
   "metadata": {},
   "outputs": [
    {
     "name": "stdout",
     "output_type": "stream",
     "text": [
      "Vertical Concatenation\n",
      "[[0 1 2 3 4 5 6 7 8 9]]\n"
     ]
    }
   ],
   "source": [
    "a=np.arange(0,5).reshape(1,5)\n",
    "b=np.arange(5,10).reshape(1,5)\n",
    "print(\"Vertical Concatenation\")\n",
    "print(np.concatenate((a,b),axis=1))"
   ]
  },
  {
   "cell_type": "markdown",
   "id": "160df681",
   "metadata": {},
   "source": [
    "Append() method"
   ]
  },
  {
   "cell_type": "code",
   "execution_count": 21,
   "id": "dbe28710",
   "metadata": {},
   "outputs": [
    {
     "data": {
      "text/plain": [
       "array([[    1,     2,     3,     4,     5,     6],\n",
       "       [    8,     7,     9,    87,    45, 25478]])"
      ]
     },
     "execution_count": 21,
     "metadata": {},
     "output_type": "execute_result"
    }
   ],
   "source": [
    "a=np.array([[1,2,3,4,5,6]])\n",
    "np.append(a,[[8,7,9,87,45,25478]],axis=0)"
   ]
  }
 ],
 "metadata": {
  "kernelspec": {
   "display_name": "Python 3 (ipykernel)",
   "language": "python",
   "name": "python3"
  },
  "language_info": {
   "codemirror_mode": {
    "name": "ipython",
    "version": 3
   },
   "file_extension": ".py",
   "mimetype": "text/x-python",
   "name": "python",
   "nbconvert_exporter": "python",
   "pygments_lexer": "ipython3",
   "version": "3.9.13"
  }
 },
 "nbformat": 4,
 "nbformat_minor": 5
}
