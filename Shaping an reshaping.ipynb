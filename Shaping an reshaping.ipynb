{
 "cells": [
  {
   "cell_type": "markdown",
   "id": "d2a4b229",
   "metadata": {},
   "source": [
    "# Shaping and Re-shaping of Arrays"
   ]
  },
  {
   "cell_type": "code",
   "execution_count": 2,
   "id": "c56dd8c6",
   "metadata": {},
   "outputs": [
    {
     "name": "stdout",
     "output_type": "stream",
     "text": [
      "[[[ 5 10 15]\n",
      "  [20 25 20]\n",
      "  [ 1  2  3]]] 3\n"
     ]
    }
   ],
   "source": [
    "import numpy as np\n",
    "a = np.array([[[5,10,15],[20,25,20],[1,2,3]]])\n",
    "print(a,a.ndim)\n",
    "#print('Dimensions:','\\n',a.ndim)"
   ]
  },
  {
   "cell_type": "code",
   "execution_count": 8,
   "id": "1893c918",
   "metadata": {},
   "outputs": [
    {
     "name": "stdout",
     "output_type": "stream",
     "text": [
      "Array : \n",
      " [[1 2 3]\n",
      " [4 5 6]]\n",
      "Shape : \n",
      " (2, 3)\n",
      "Rows = 2\n",
      "Columns =  3\n"
     ]
    },
    {
     "data": {
      "text/plain": [
       "array([[1],\n",
       "       [2],\n",
       "       [3],\n",
       "       [4],\n",
       "       [5],\n",
       "       [6]])"
      ]
     },
     "execution_count": 8,
     "metadata": {},
     "output_type": "execute_result"
    }
   ],
   "source": [
    "a = np.array([[1,2,3],[4,5,6]])\n",
    "print('Array :','\\n',a)\n",
    "print('Shape :','\\n',a.shape)\n",
    "print('Rows =',a.shape[0])\n",
    "print('Columns = ',a.shape[1])\n",
    "np.reshape(a,(6,1))\n"
   ]
  },
  {
   "cell_type": "code",
   "execution_count": 3,
   "id": "52f87bee",
   "metadata": {},
   "outputs": [
    {
     "name": "stdout",
     "output_type": "stream",
     "text": [
      "the size of the array is : 18\n",
      "the shape of the array is : (1, 3, 6)\n",
      "the manual calculation of size of the array : 3\n"
     ]
    }
   ],
   "source": [
    "b=np.array([[[1,2,3,4,6,5],[7,8,9,4,5,6],[78,45,12,86,53,23]]])\n",
    "print(\"the size of the array is :\",b.size)\n",
    "print('the shape of the array is :',b.shape)\n",
    "print('the manual calculation of size of the array :',b.shape[0]*b.shape[1])\n",
    "#print(b.shape[0]*b.shape[1])"
   ]
  },
  {
   "cell_type": "code",
   "execution_count": 4,
   "id": "6a40ba59",
   "metadata": {},
   "outputs": [
    {
     "data": {
      "text/plain": [
       "array([[ 1,  2,  3,  4,  6,  5],\n",
       "       [ 7,  8,  9,  4,  5,  6],\n",
       "       [78, 45, 12, 86, 53, 23]])"
      ]
     },
     "execution_count": 4,
     "metadata": {},
     "output_type": "execute_result"
    }
   ],
   "source": [
    "np.reshape(b,(3,6))"
   ]
  },
  {
   "cell_type": "markdown",
   "id": "377ec1a2",
   "metadata": {},
   "source": [
    "# Flattening  and Raveling an array and the differences "
    "Flattening an array creates an separate array which has no relation later on If any changes exists in the flattened array they will not be reflected to the original array"
    "Where as in raveling a array the raveled array will be in the reference of the original array so if any changes occurs in ravled array the changes will be reflected in original array" 
   ]
  },
  {
   "cell_type": "code",
   "execution_count": 27,
   "id": "b9e91d81",
   "metadata": {},
   "outputs": [
    {
     "name": "stdout",
     "output_type": "stream",
     "text": [
      "[[42 42 42 42]\n",
      " [42 42 42 42]\n",
      " [42 42 42 42]] \n",
      "\n",
      "[[42 42 42 42]\n",
      " [42 42 42 42]\n",
      " [42 42 42 57]] \n",
      "\n",
      "[42 57 42 42 42 42 42 42 42 42 42 57] \n",
      "\n",
      "[[42 42 42 42]\n",
      " [42 42 42 42]\n",
      " [42 42 42 57]]\n"
     ]
    }
   ],
   "source": [
    "x=np.full((3,4),42)\n",
    "print(x,'\\n')\n",
    "x[2][3]=57\n",
    "a=x.flatten()\n",
    "a[1]=57\n",
    "print(x,'\\n')\n",
    "print(a,'\\n')\n",
    "print(x)\n"
   ]
  },
  {
   "cell_type": "code",
   "execution_count": 28,
   "id": "f4f8b7ab",
   "metadata": {},
   "outputs": [
    {
     "name": "stdout",
     "output_type": "stream",
     "text": [
      "[[26 26 26]\n",
      " [26 26 26]\n",
      " [26 26 26]] \n",
      "\n",
      "[[26 26 78]\n",
      " [26 26 26]\n",
      " [26 26 57]] \n",
      "\n",
      "[26 26 78 26 26 26 26 26 57] \n",
      "\n",
      "[[26 26 78]\n",
      " [26 26 26]\n",
      " [26 26 57]]\n"
     ]
    }
   ],
   "source": [
    "y=np.full((3,3),26)\n",
    "print(y,'\\n')\n",
    "y[2][2]=57\n",
    "b=y.ravel()\n",
    "b[2]=78\n",
    "print(y,'\\n')\n",
    "print(b,'\\n')\n",
    "print(y)"
   ]
  },
  {
   "cell_type": "code",
   "execution_count": 48,
   "id": "78cb27ba",
   "metadata": {},
   "outputs": [
    {
     "name": "stdout",
     "output_type": "stream",
     "text": [
      "(6, 2)\n",
      "[[42 42]\n",
      " [42 42]\n",
      " [42 42]\n",
      " [42 42]\n",
      " [42 42]\n",
      " [42 57]]\n",
      "[[42 42 42 42 42 42]\n",
      " [42 42 42 42 42 57]]\n"
     ]
    }
   ],
   "source": [
    "print(x.shape)\n",
    "x=np.reshape(x,(6,2))\n",
    "print(x)\n",
    "print(np.transpose(x))"
   ]
  },
  {
   "cell_type": "code",
   "execution_count": 49,
   "id": "d6e0255d",
   "metadata": {},
   "outputs": [
    {
     "name": "stdout",
     "output_type": "stream",
     "text": [
      "[54 54 54 54 54]\n"
     ]
    }
   ],
   "source": [
    "z=np.full((5),54)\n",
    "print(z)"
   ]
  },
  {
   "cell_type": "code",
   "execution_count": 50,
   "id": "4ac437d8",
   "metadata": {},
   "outputs": [
    {
     "name": "stdout",
     "output_type": "stream",
     "text": [
      "First row values : \n",
      " [[1 2 3]]\n",
      "Alternate values from first row: \n",
      " [[1 3]]\n",
      "Second column values : \n",
      " [[2]\n",
      " [5]]\n",
      "Arbitrary values : \n",
      " [[2 3]]\n"
     ]
    }
   ],
   "source": [
    "a = np.array([[1,2,3],[4,5,6]])\n",
    "# print first row values\n",
    "print('First row values :','\\n',a[0:1,:])\n",
    "# with step-size for columns\n",
    "print('Alternate values from first row:','\\n',a[0:1,::2])\n",
    "# \n",
    "print('Second column values :','\\n',a[:,1::2])\n",
    "print('Arbitrary values :','\\n',a[0:1,1:3])"
   ]
  },
  {
   "cell_type": "code",
   "execution_count": 16,
   "id": "98235860",
   "metadata": {},
   "outputs": [
    {
     "name": "stdout",
     "output_type": "stream",
     "text": [
      "[[42 42 42 42]\n",
      " [42 42 42 42]\n",
      " [42 42 42 42]] \n",
      "\n",
      "[42 42 42 42 42 42 42 42 42 42 42 57] \n",
      "\n",
      "[42 42 45 42 42 42 42 42 42 42 42 57]\n"
     ]
    }
   ],
   "source": [
    "x=np.full((3,4),42)\n",
    "print(x,'\\n')\n",
    "x[2][3]=57\n",
    "x=x.flatten()\n",
    "a=x.flatten()\n",
    "a[2]=45\n",
    "print(x,'\\n')\n",
    "print(a)"
   ]
  },
  {
   "cell_type": "code",
   "execution_count": 27,
   "id": "c2075823",
   "metadata": {},
   "outputs": [
    {
     "name": "stdout",
     "output_type": "stream",
     "text": [
      "[[42 42 42 42]\n",
      " [42 42 42 42]\n",
      " [42 42 42 42]] \n",
      "\n",
      "[[42 42 45 42]\n",
      " [42 42 42 42]\n",
      " [42 42 42 57]] \n",
      "\n",
      "[42 42 45 42 42 42 42 42 42 42 42 57]\n",
      "\n",
      "\n",
      "[[42 42 42]\n",
      " [42 42 42]\n",
      " [45 42 42]\n",
      " [42 42 57]]\n"
     ]
    }
   ],
   "source": [
    "x=np.full((3,4),42)\n",
    "print(x,'\\n')\n",
    "x[2][3]=57\n",
    "x1=x.ravel()\n",
    "a=x.ravel()\n",
    "a[2]=45\n",
    "print(x,'\\n')\n",
    "print(a)\n",
    "y=np.transpose(x)\n",
    "print('\\n')\n",
    "print(y)"
   ]
  },
  {
   "cell_type": "code",
   "execution_count": 26,
   "id": "85b86165",
   "metadata": {},
   "outputs": [
    {
     "name": "stdout",
     "output_type": "stream",
     "text": [
      "[[25 25 25 25 25 25]\n",
      " [25 25 25 25 25 25]\n",
      " [25 25 25 25 25 25]\n",
      " [25 25 25 25 25 25]] \n",
      "\n",
      "[[25 25 25 25]\n",
      " [25 25 25 25]\n",
      " [25 25 25 25]\n",
      " [25 25 25 25]\n",
      " [25 25 25 25]\n",
      " [25 25 25 25]]\n"
     ]
    }
   ],
   "source": [
    "n=np.full((4,6),25)\n",
    "print(n,'\\n')\n",
    "m=np.transpose(n)\n",
    "print(m)"
   ]
  }
 ],
 "metadata": {
  "kernelspec": {
   "display_name": "Python 3 (ipykernel)",
   "language": "python",
   "name": "python3"
  },
  "language_info": {
   "codemirror_mode": {
    "name": "ipython",
    "version": 3
   },
   "file_extension": ".py",
   "mimetype": "text/x-python",
   "name": "python",
   "nbconvert_exporter": "python",
   "pygments_lexer": "ipython3",
   "version": "3.9.13"
  }
 },
 "nbformat": 4,
 "nbformat_minor": 5
}
